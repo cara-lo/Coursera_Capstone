{
 "cells": [
  {
   "cell_type": "markdown",
   "metadata": {},
   "source": [
    "## Applied Data Science Capstone Project — Strategic Clustering for Establishing a Fine Dining Restaurant in Hong Kong"
   ]
  },
  {
   "cell_type": "markdown",
   "metadata": {},
   "source": [
    "## Introduction"
   ]
  },
  {
   "cell_type": "markdown",
   "metadata": {},
   "source": [
    "Hong Kong is famous for being a ‘food paradise’. With a colossal 66 Michelin-starred restaurants, it has proven itself one of the most amazing and diverse restaurant cities globally. Matching with the high-end lifestyle of Hong Kong people, there are limitless choices on fine dining restaurants. Therefore, it is not easy for a new business to survive in the market. A strategic location would be vital for a great start of the restaurant. In this project, geospatial analysis and data science methodology and techniques like K-means clustering will be performed to determine the optimal location to establish a fine dining restaurant in Hong Kong. \n"
   ]
  },
  {
   "cell_type": "markdown",
   "metadata": {},
   "source": [
    "## Data"
   ]
  },
  {
   "cell_type": "markdown",
   "metadata": {},
   "source": [
    "The following data is used to reach the solution:\n",
    "1.\tList of districts in Hong Kong (Source: Wikipedia page)\n",
    "\n",
    "    This defines the scope of this project. There are 3 regions and 18 districts in Hong Kong, Central and Western, Eastern, Southern, Wan Chai belong to Hong Kong Island; Sham Shui Po, Kowloon City, Kwun Tong, Wong Tai Sin, Yau Tsim Mong belong to Kowloon; Islands, Kwai Tsing, North, Sai Kung, Sha Tin, Tai Po, Tsuen Wan, Tuen Mun, Yuen Long belong to New Territories.\n",
    "\n",
    "2.\tPopulation of districts (Source: Wikipedia page)\n",
    "\n",
    "    One of the important factors to decide the optimal location\n",
    "    \n",
    "3.\tLatitude and longitude of districts (Source: HK GeoSpatial Open Data)\n",
    "    \n",
    "    For map visualization using Folium\n",
    "    \n",
    "4.\tMedian monthly household income of districts\n",
    "\n",
    "    One of the important factors to decide the optimal location\n",
    "    \n",
    "5.\tVenue data (Source: Foursquare API)\n",
    "\n",
    "    Data related to fine dining restaurants to perform clustering on the districts\n"
   ]
  }
 ],
 "metadata": {
  "kernelspec": {
   "display_name": "Python",
   "language": "python",
   "name": "conda-env-python-py"
  },
  "language_info": {
   "codemirror_mode": {
    "name": "ipython",
    "version": 3
   },
   "file_extension": ".py",
   "mimetype": "text/x-python",
   "name": "python",
   "nbconvert_exporter": "python",
   "pygments_lexer": "ipython3",
   "version": "3.6.12"
  }
 },
 "nbformat": 4,
 "nbformat_minor": 4
}
